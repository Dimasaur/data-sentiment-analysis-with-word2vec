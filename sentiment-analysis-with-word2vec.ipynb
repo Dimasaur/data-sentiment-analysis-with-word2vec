{
 "cells": [
  {
   "cell_type": "markdown",
   "metadata": {},
   "source": [
    "# Sentiment analysis with Word2Vec\n",
    "\n",
    "### Exercise objectives:\n",
    "- Convert words to vectors with Word2Vec\n",
    "- Use the word representation given by Word2vec to feed a RNN\n",
    "\n",
    "<hr>"
   ]
  },
  {
   "cell_type": "markdown",
   "metadata": {},
   "source": [
    "▶️ Run this cell and make sure the version of 📚 [Gensim - Word2Vec](https://radimrehurek.com/gensim/auto_examples/index.html) you are using is ≥ 4.0!"
   ]
  },
  {
   "cell_type": "code",
   "execution_count": 1,
   "metadata": {},
   "outputs": [
    {
     "name": "stdout",
     "output_type": "stream",
     "text": [
      "gensim==4.2.0\n"
     ]
    }
   ],
   "source": [
    "!pip freeze | grep gensim"
   ]
  },
  {
   "cell_type": "markdown",
   "metadata": {},
   "source": [
    "# The data\n",
    "\n",
    "\n",
    "❓ **Question** ❓ Let's first load the data. You don't have to understand what is going on in the function, it does not matter here.\n",
    "\n",
    "⚠️ **Warning** ⚠️ The `load_data` function has a `percentage_of_sentences` argument. Depending on your computer, there are chances that too many sentences will make your compute slow down, or even freeze - your RAM can overflow. For that reason, **you should start with 10% of the sentences** and see if your computer handles it. Otherwise, rerun with a lower number. \n",
    "\n",
    "⚠️ **DISCLAIMER** ⚠️ **No need to play _who has the biggest_ (RAM) !** The idea is to get to run your models quickly to prototype. Even in real life, it is recommended that you start with a subset of your data to loop and debug quickly. So increase the number only if you are into getting the best accuracy."
   ]
  },
  {
   "cell_type": "code",
   "execution_count": 2,
   "metadata": {},
   "outputs": [],
   "source": [
    "import numpy as np"
   ]
  },
  {
   "cell_type": "code",
   "execution_count": 3,
   "metadata": {},
   "outputs": [
    {
     "name": "stderr",
     "output_type": "stream",
     "text": [
      "2024-08-15 15:20:18.925932: W tensorflow/core/platform/cloud/google_auth_provider.cc:184] All attempts to get a Google authentication bearer token failed, returning an empty token. Retrieving token from files failed with \"INVALID_ARGUMENT: Error executing an HTTP request: HTTP response code 400 with body '{\"error\":\"invalid_grant\",\"error_description\":\"Invalid grant: account not found\"}'\". Retrieving token from GCE failed with \"FAILED_PRECONDITION: Error executing an HTTP request: libcurl code 6 meaning 'Couldn't resolve host name', error details: Could not resolve host: metadata\".\n"
     ]
    },
    {
     "name": "stdout",
     "output_type": "stream",
     "text": [
      "\u001b[1mDownloading and preparing dataset 80.23 MiB (download: 80.23 MiB, generated: Unknown size, total: 80.23 MiB) to ~/tensorflow_datasets/imdb_reviews/plain_text/1.0.0...\u001b[0m\n"
     ]
    },
    {
     "data": {
      "application/vnd.jupyter.widget-view+json": {
       "model_id": "898fcbeca0434d74b9ce447279282f6f",
       "version_major": 2,
       "version_minor": 0
      },
      "text/plain": [
       "Dl Completed...: 0 url [00:00, ? url/s]"
      ]
     },
     "metadata": {},
     "output_type": "display_data"
    },
    {
     "data": {
      "application/vnd.jupyter.widget-view+json": {
       "model_id": "8a81d9a8a7804d149d1ce48b6e05255f",
       "version_major": 2,
       "version_minor": 0
      },
      "text/plain": [
       "Dl Size...: 0 MiB [00:00, ? MiB/s]"
      ]
     },
     "metadata": {},
     "output_type": "display_data"
    },
    {
     "data": {
      "application/vnd.jupyter.widget-view+json": {
       "model_id": "d498ddc3c4154921bf472dc3c30b8e39",
       "version_major": 2,
       "version_minor": 0
      },
      "text/plain": [
       "Generating splits...:   0%|          | 0/3 [00:00<?, ? splits/s]"
      ]
     },
     "metadata": {},
     "output_type": "display_data"
    },
    {
     "data": {
      "application/vnd.jupyter.widget-view+json": {
       "model_id": "f4e724b6f76c4f4096c16639fd592ef3",
       "version_major": 2,
       "version_minor": 0
      },
      "text/plain": [
       "Generating train examples...:   0%|          | 0/25000 [00:00<?, ? examples/s]"
      ]
     },
     "metadata": {},
     "output_type": "display_data"
    },
    {
     "data": {
      "application/vnd.jupyter.widget-view+json": {
       "model_id": "a4979864e8f54779a7e0824badb54a12",
       "version_major": 2,
       "version_minor": 0
      },
      "text/plain": [
       "Shuffling ~/tensorflow_datasets/imdb_reviews/plain_text/1.0.0.incompleteNJ6KUO/imdb_reviews-train.tfrecord*...…"
      ]
     },
     "metadata": {},
     "output_type": "display_data"
    },
    {
     "data": {
      "application/vnd.jupyter.widget-view+json": {
       "model_id": "be5a2513e22c45c0a8212989b3317259",
       "version_major": 2,
       "version_minor": 0
      },
      "text/plain": [
       "Generating test examples...:   0%|          | 0/25000 [00:00<?, ? examples/s]"
      ]
     },
     "metadata": {},
     "output_type": "display_data"
    },
    {
     "data": {
      "application/vnd.jupyter.widget-view+json": {
       "model_id": "8dfd7db9320d4c6ca17a4e7b6de69644",
       "version_major": 2,
       "version_minor": 0
      },
      "text/plain": [
       "Shuffling ~/tensorflow_datasets/imdb_reviews/plain_text/1.0.0.incompleteNJ6KUO/imdb_reviews-test.tfrecord*...:…"
      ]
     },
     "metadata": {},
     "output_type": "display_data"
    },
    {
     "data": {
      "application/vnd.jupyter.widget-view+json": {
       "model_id": "1969df7d010b45959806ad6697a5c47d",
       "version_major": 2,
       "version_minor": 0
      },
      "text/plain": [
       "Generating unsupervised examples...:   0%|          | 0/50000 [00:00<?, ? examples/s]"
      ]
     },
     "metadata": {},
     "output_type": "display_data"
    },
    {
     "data": {
      "application/vnd.jupyter.widget-view+json": {
       "model_id": "f92706d8139b46348ec7b9054b1e0a6f",
       "version_major": 2,
       "version_minor": 0
      },
      "text/plain": [
       "Shuffling ~/tensorflow_datasets/imdb_reviews/plain_text/1.0.0.incompleteNJ6KUO/imdb_reviews-unsupervised.tfrec…"
      ]
     },
     "metadata": {},
     "output_type": "display_data"
    },
    {
     "name": "stdout",
     "output_type": "stream",
     "text": [
      "\u001b[1mDataset imdb_reviews downloaded and prepared to ~/tensorflow_datasets/imdb_reviews/plain_text/1.0.0. Subsequent calls will reuse this data.\u001b[0m\n"
     ]
    },
    {
     "name": "stderr",
     "output_type": "stream",
     "text": [
      "2024-08-15 15:20:42.916601: W tensorflow/core/platform/profile_utils/cpu_utils.cc:128] Failed to get CPU frequency: 0 Hz\n"
     ]
    }
   ],
   "source": [
    "###########################################\n",
    "### Just run this cell to load the data ###\n",
    "###########################################\n",
    "\n",
    "import tensorflow_datasets as tfds\n",
    "from tensorflow.keras.preprocessing.text import text_to_word_sequence\n",
    "\n",
    "def load_data(percentage_of_sentences=None):\n",
    "    train_data, test_data = tfds.load(name=\"imdb_reviews\", split=[\"train\", \"test\"], batch_size=-1, as_supervised=True)\n",
    "\n",
    "    train_sentences, y_train = tfds.as_numpy(train_data)\n",
    "    test_sentences, y_test = tfds.as_numpy(test_data)\n",
    "\n",
    "    # Take only a given percentage of the entire data\n",
    "    if percentage_of_sentences is not None:\n",
    "        assert(percentage_of_sentences> 0 and percentage_of_sentences<=100)\n",
    "\n",
    "        len_train = int(percentage_of_sentences/100*len(train_sentences))\n",
    "        train_sentences, y_train = train_sentences[:len_train], y_train[:len_train]\n",
    "\n",
    "        len_test = int(percentage_of_sentences/100*len(test_sentences))\n",
    "        test_sentences, y_test = test_sentences[:len_test], y_test[:len_test]\n",
    "\n",
    "    X_train = [text_to_word_sequence(_.decode(\"utf-8\")) for _ in train_sentences]\n",
    "    X_test = [text_to_word_sequence(_.decode(\"utf-8\")) for _ in test_sentences]\n",
    "\n",
    "    return X_train, y_train, X_test, y_test\n",
    "\n",
    "X_train, y_train, X_test, y_test = load_data(percentage_of_sentences=10)"
   ]
  },
  {
   "cell_type": "markdown",
   "metadata": {},
   "source": [
    "In the previous exercise, you trained a Word2vec representation and converted all your training sentences in order to feed them into a RNN, as shown in the first step of this Figure: \n",
    "\n",
    "<img src=\"word2vec_representation.png\" width=\"400px\" />\n",
    "\n",
    "\n",
    "\n",
    "❓ **Question** ❓ Here, let's re-do exactly what you have done in the previous exercise. First, train a word2vec model (with the arguments that you want) on your training sentence. Store it into the `word2vec` variable."
   ]
  },
  {
   "cell_type": "code",
   "execution_count": 4,
   "metadata": {
    "tags": [
     "challengify"
    ]
   },
   "outputs": [],
   "source": [
    "from gensim.models import Word2Vec\n",
    "\n",
    "word2vec = Word2Vec(sentences=X_train,min_count=5, vector_size=200)"
   ]
  },
  {
   "cell_type": "markdown",
   "metadata": {},
   "source": [
    "Let's reuse the functions of the previous exercise to convert your training and test data into something you can feed into a RNN.\n",
    "\n",
    "❓ **Question** ❓ Read the following function to be sure you understand what is going on, and run it."
   ]
  },
  {
   "cell_type": "code",
   "execution_count": 5,
   "metadata": {},
   "outputs": [],
   "source": [
    "from tensorflow.keras.preprocessing.sequence import pad_sequences\n",
    "import numpy as np\n",
    "\n",
    "# Function to convert a sentence (list of words) into a matrix representing the words in the embedding space\n",
    "def embed_sentence(word2vec, sentence):\n",
    "    embedded_sentence = []\n",
    "    for word in sentence:\n",
    "        if word in word2vec.wv:\n",
    "            embedded_sentence.append(word2vec.wv[word])\n",
    "\n",
    "    return np.array(embedded_sentence)\n",
    "\n",
    "# Function that converts a list of sentences into a list of matrices\n",
    "def embedding(word2vec, sentences):\n",
    "    embed = []\n",
    "\n",
    "    for sentence in sentences:\n",
    "        embedded_sentence = embed_sentence(word2vec, sentence)\n",
    "        embed.append(embedded_sentence)\n",
    "\n",
    "    return embed\n",
    "\n",
    "# Embed the training and test sentences\n",
    "X_train_embed = embedding(word2vec, X_train)\n",
    "X_test_embed = embedding(word2vec, X_test)\n",
    "\n",
    "\n",
    "# Pad the training and test embedded sentences\n",
    "X_train_pad = pad_sequences(X_train_embed, dtype='float32', padding='post', maxlen=200)\n",
    "X_test_pad = pad_sequences(X_test_embed, dtype='float32', padding='post', maxlen=200)"
   ]
  },
  {
   "cell_type": "markdown",
   "metadata": {},
   "source": [
    "☝️ To be sure that it worked, let's check the following for `X_train_pad` and `X_test_pad`:\n",
    "- they are numpy arrays\n",
    "- they are 3-dimensional\n",
    "- the last dimension is of the size of your word2vec embedding space (you can get it with `word2vec.wv.vector_size`\n",
    "- the first dimension is of the size of your `X_train` and `X_test`\n",
    "\n",
    "✅ **Good Practice** ✅ Such tests are quite important! Not only in this exercise, but in real-life applications. It prevents from finding errors too late and from letting them propagate through the entire notebook."
   ]
  },
  {
   "cell_type": "code",
   "execution_count": 6,
   "metadata": {},
   "outputs": [],
   "source": [
    "# TEST ME\n",
    "for X in [X_train_pad, X_test_pad]:\n",
    "    assert type(X) == np.ndarray\n",
    "    assert X.shape[-1] == word2vec.wv.vector_size\n",
    "\n",
    "\n",
    "assert X_train_pad.shape[0] == len(X_train)\n",
    "assert X_test_pad.shape[0] == len(X_test)"
   ]
  },
  {
   "cell_type": "markdown",
   "metadata": {},
   "source": [
    "# Baseline model\n",
    "\n",
    "It is always good to have a very simple model to test your own model against - to be sure you are doing something better than a very simple algorithm.\n",
    "\n",
    "❓ **Question** ❓ What is your baseline accuracy? In this case, your baseline can be to predict the label that is the most present in `y_train` (of course, if the dataset is balanced, the baseline accuracy is 1/n where n is the number of classes - 2 here)."
   ]
  },
  {
   "cell_type": "code",
   "execution_count": 20,
   "metadata": {},
   "outputs": [
    {
     "name": "stdout",
     "output_type": "stream",
     "text": [
      "1235 1265\n"
     ]
    }
   ],
   "source": [
    "count_1 = np.sum(y_train==1)\n",
    "count_0 = np.sum(y_train==0)\n",
    "\n",
    "print(count_1,count_0)\n",
    "\n",
    "baseline_score = 0.5"
   ]
  },
  {
   "cell_type": "code",
   "execution_count": 38,
   "metadata": {},
   "outputs": [],
   "source": [
    "from tensorflow.keras.layers import Normalization, Embedding\n",
    "from tensorflow.keras.models import Sequential\n",
    "from tensorflow.keras.layers import Dense, SimpleRNN, Flatten, LSTM\n",
    "from tensorflow.keras import models, layers\n",
    "from tensorflow.keras.callbacks import EarlyStopping\n",
    "import numpy as np\n",
    "from tensorflow.keras.preprocessing.sequence import pad_sequences\n",
    "from tensorflow.keras.preprocessing.text import Tokenizer"
   ]
  },
  {
   "cell_type": "markdown",
   "metadata": {},
   "source": [
    "# The model\n",
    "\n",
    "❓ **Question** ❓ Write a RNN with the following layers:\n",
    "- a `Masking` layer\n",
    "- a `LSTM` with 20 units and `tanh` activation function\n",
    "- a `Dense` with 10 units\n",
    "- an output layer that depends on your task\n",
    "\n",
    "Then, compile your model (we advise you to use the `rmsprop` as the optimizer - at least to begin with)"
   ]
  },
  {
   "cell_type": "code",
   "execution_count": 25,
   "metadata": {
    "tags": [
     "challengify"
    ]
   },
   "outputs": [],
   "source": [
    "def create_model_lstm():\n",
    "\n",
    "    model = Sequential()\n",
    "\n",
    "    model.add(layers.Normalization(input_shape=(200,200)))\n",
    "\n",
    "    # masking layer to ignore padded values\n",
    "    model.add(layers.Masking(mask_value=0.0))\n",
    "\n",
    "    # adding RNN layer\n",
    "    model.add(layers.LSTM(units=20, activation = 'tanh',use_bias=True))\n",
    "\n",
    "    #dense layer with 10 neurons\n",
    "    model.add(layers.Dense(10, activation='relu'))\n",
    "\n",
    "    # dense layer specific to the task of predicting a salary\n",
    "    model.add(layers.Dense(1, activation='sigmoid'))\n",
    "\n",
    "    #compiling the model\n",
    "    model.compile(\n",
    "        loss = 'binary_crossentropy',\n",
    "        optimizer = 'rmsprop',\n",
    "        metrics = ['accuracy']\n",
    "    )\n",
    "\n",
    "    return model"
   ]
  },
  {
   "cell_type": "code",
   "execution_count": 26,
   "metadata": {},
   "outputs": [],
   "source": [
    "model = create_model_lstm()"
   ]
  },
  {
   "cell_type": "markdown",
   "metadata": {},
   "source": [
    "❓ **Question** ❓ Fit the model on your embedded and padded data - do not forget the early stopping criterion.\n",
    "\n",
    "❗ **Remark** ❗ Your accuracy will greatly depend on your training corpus. Here just make sure that your performance is above the baseline model (which should be the case even if you loaded only 20% of the initial IMDB data)."
   ]
  },
  {
   "cell_type": "code",
   "execution_count": 28,
   "metadata": {
    "tags": [
     "challengify"
    ]
   },
   "outputs": [
    {
     "name": "stdout",
     "output_type": "stream",
     "text": [
      "Epoch 1/30\n",
      "63/63 [==============================] - 2s 31ms/step - loss: 0.5973 - accuracy: 0.6800 - val_loss: 0.6632 - val_accuracy: 0.6220\n",
      "Epoch 2/30\n",
      "63/63 [==============================] - 2s 31ms/step - loss: 0.5944 - accuracy: 0.6820 - val_loss: 0.6506 - val_accuracy: 0.6180\n",
      "Epoch 3/30\n",
      "63/63 [==============================] - 2s 31ms/step - loss: 0.5901 - accuracy: 0.6890 - val_loss: 0.6220 - val_accuracy: 0.6400\n",
      "Epoch 4/30\n",
      "63/63 [==============================] - 2s 31ms/step - loss: 0.5749 - accuracy: 0.7040 - val_loss: 0.6184 - val_accuracy: 0.6680\n",
      "Epoch 5/30\n",
      "63/63 [==============================] - 2s 31ms/step - loss: 0.5647 - accuracy: 0.7095 - val_loss: 0.6325 - val_accuracy: 0.6400\n",
      "Epoch 6/30\n",
      "63/63 [==============================] - 2s 31ms/step - loss: 0.5535 - accuracy: 0.7215 - val_loss: 0.6583 - val_accuracy: 0.6460\n",
      "Epoch 7/30\n",
      "63/63 [==============================] - 2s 31ms/step - loss: 0.5487 - accuracy: 0.7285 - val_loss: 0.7008 - val_accuracy: 0.6320\n",
      "Epoch 8/30\n",
      "63/63 [==============================] - 2s 31ms/step - loss: 0.5391 - accuracy: 0.7285 - val_loss: 0.7407 - val_accuracy: 0.5980\n",
      "Epoch 9/30\n",
      "63/63 [==============================] - 2s 31ms/step - loss: 0.5365 - accuracy: 0.7310 - val_loss: 0.6564 - val_accuracy: 0.6540\n"
     ]
    }
   ],
   "source": [
    "es = EarlyStopping(patience = 5, restore_best_weights=True)\n",
    "\n",
    "history = model.fit(\n",
    "     X_train_pad,\n",
    "     y_train,\n",
    "     validation_split = 0.2,\n",
    "     batch_size = 32,\n",
    "     epochs = 30,\n",
    "     callbacks = [es]\n",
    ")"
   ]
  },
  {
   "cell_type": "markdown",
   "metadata": {},
   "source": [
    "❓ **Question** ❓ Evaluate your model on the test set"
   ]
  },
  {
   "cell_type": "code",
   "execution_count": 29,
   "metadata": {
    "tags": [
     "challengify"
    ]
   },
   "outputs": [
    {
     "name": "stdout",
     "output_type": "stream",
     "text": [
      "79/79 [==============================] - 1s 9ms/step - loss: 0.6367 - accuracy: 0.6412\n"
     ]
    }
   ],
   "source": [
    "results = model.evaluate(X_test_pad,y_test)"
   ]
  },
  {
   "cell_type": "code",
   "execution_count": 30,
   "metadata": {},
   "outputs": [
    {
     "name": "stdout",
     "output_type": "stream",
     "text": [
      "0.6412000060081482\n"
     ]
    }
   ],
   "source": [
    "accuracy = results[1]\n",
    "\n",
    "print(accuracy)"
   ]
  },
  {
   "cell_type": "markdown",
   "metadata": {},
   "source": [
    "# Trained Word2Vec - Transfer Learning\n",
    "\n",
    "Your accuracy, while above the baseline model, might be quite low. There are multiple options to improve it, as data cleaning and improving the quality of the embedding.\n",
    "\n",
    "We won't dig into data cleaning strategies here. Let's try to improve the quality of our embedding. But instead of just loading a larger corpus, why not benefiting from the embedding that others have learned? Because, the quality of an embedding, i.e. the proximity of the words, can be derived from different tasks. This is exactly what transfer learning is.\n",
    "\n",
    "\n",
    "\n",
    "❓ **Question** ❓ List all the different models available in the word2vec thanks to this: "
   ]
  },
  {
   "cell_type": "code",
   "execution_count": 31,
   "metadata": {},
   "outputs": [
    {
     "name": "stdout",
     "output_type": "stream",
     "text": [
      "['fasttext-wiki-news-subwords-300', 'conceptnet-numberbatch-17-06-300', 'word2vec-ruscorpora-300', 'word2vec-google-news-300', 'glove-wiki-gigaword-50', 'glove-wiki-gigaword-100', 'glove-wiki-gigaword-200', 'glove-wiki-gigaword-300', 'glove-twitter-25', 'glove-twitter-50', 'glove-twitter-100', 'glove-twitter-200', '__testing_word2vec-matrix-synopsis']\n"
     ]
    }
   ],
   "source": [
    "import gensim.downloader as api\n",
    "print(list(api.info()['models'].keys()))"
   ]
  },
  {
   "cell_type": "markdown",
   "metadata": {},
   "source": [
    "ℹ️ You can also find the list of the models and their size on the [`gensim-data` repository](https://github.com/RaRe-Technologies/gensim-data#models)."
   ]
  },
  {
   "cell_type": "markdown",
   "metadata": {},
   "source": [
    "❓ **Question** ❓ Load one of the pre-trained word2vec embedding spaces. \n",
    "\n",
    "You can do that with `api.load(the-model-of-your-choice)`, and store it in `word2vec_transfer`\n",
    "\n",
    "<details>\n",
    "    <summary>💡 Hint</summary>\n",
    "    \n",
    "The `glove-wiki-gigaword-50` model is a good candidate to start with as it is smaller (65 MB).\n",
    "\n",
    "</details>"
   ]
  },
  {
   "cell_type": "code",
   "execution_count": 32,
   "metadata": {
    "tags": [
     "challengify"
    ]
   },
   "outputs": [
    {
     "name": "stdout",
     "output_type": "stream",
     "text": [
      "[==================================================] 100.0% 66.0/66.0MB downloaded\n"
     ]
    }
   ],
   "source": [
    "word2vec_transfer = api.load('glove-wiki-gigaword-50')"
   ]
  },
  {
   "cell_type": "markdown",
   "metadata": {},
   "source": [
    "❓ **Question** ❓ Check the size of the vocabulary, but also the size of the embedding space."
   ]
  },
  {
   "cell_type": "code",
   "execution_count": 36,
   "metadata": {
    "tags": [
     "challengify"
    ]
   },
   "outputs": [],
   "source": [
    "vocab_size = len(word2vec_transfer)"
   ]
  },
  {
   "cell_type": "markdown",
   "metadata": {},
   "source": [
    "❓ Let's embed `X_train` and `X_test`, same as in the first question where we provided the functions to do so! (There is a slight difference in the `embed_sentence_with_TF` function that we will not dig into)"
   ]
  },
  {
   "cell_type": "code",
   "execution_count": 37,
   "metadata": {},
   "outputs": [],
   "source": [
    "# Function to convert a sentence (list of words) into a matrix representing the words in the embedding space\n",
    "def embed_sentence_with_TF(word2vec, sentence):\n",
    "    embedded_sentence = []\n",
    "    for word in sentence:\n",
    "        if word in word2vec:\n",
    "            embedded_sentence.append(word2vec[word])\n",
    "\n",
    "    return np.array(embedded_sentence)\n",
    "\n",
    "# Function that converts a list of sentences into a list of matrices\n",
    "def embedding(word2vec, sentences):\n",
    "    embed = []\n",
    "\n",
    "    for sentence in sentences:\n",
    "        embedded_sentence = embed_sentence_with_TF(word2vec, sentence)\n",
    "        embed.append(embedded_sentence)\n",
    "\n",
    "    return embed\n",
    "\n",
    "# Embed the training and test sentences\n",
    "X_train_embed_2 = embedding(word2vec_transfer, X_train)\n",
    "X_test_embed_2 = embedding(word2vec_transfer, X_test)"
   ]
  },
  {
   "cell_type": "markdown",
   "metadata": {},
   "source": [
    "❓ **Question** ❓  Do not forget to pad your results and store it in `X_train_pad_2` and `X_test_pad_2`."
   ]
  },
  {
   "cell_type": "code",
   "execution_count": 39,
   "metadata": {
    "tags": [
     "challengify"
    ]
   },
   "outputs": [],
   "source": [
    "X_train_pad_2 = pad_sequences(X_train_embed_2, dtype='float32', padding='pre')\n",
    "X_test_pad_2 = pad_sequences(X_test_embed_2, dtype='float32', padding='pre')"
   ]
  },
  {
   "cell_type": "markdown",
   "metadata": {},
   "source": [
    "❓ **Question** ❓ Reinitialize a model and fit it on your new embedded (and padded) data!  Evaluate it on your test set and compare it to your previous accuracy.\n",
    "\n",
    "❗ **Remark** ❗ The training here could take some time. You can just compute 10 epochs (this is **not** a good practice, it is just not to wait too long) and go to the next exercise while it trains - or take a break, you probably deserve it ;)"
   ]
  },
  {
   "cell_type": "code",
   "execution_count": 44,
   "metadata": {},
   "outputs": [],
   "source": [
    "def create_model_lstm_2():\n",
    "\n",
    "    model = Sequential()\n",
    "\n",
    "    model.add(layers.Normalization(input_shape=X_train_pad_2.shape[1:]))\n",
    "\n",
    "    # masking layer to ignore padded values\n",
    "    model.add(layers.Masking(mask_value=0.0))\n",
    "\n",
    "    # adding RNN layer\n",
    "    model.add(layers.LSTM(units=20, activation = 'tanh',use_bias=True))\n",
    "\n",
    "    #dense layer with 10 neurons\n",
    "    model.add(layers.Dense(10, activation='relu'))\n",
    "\n",
    "    # dense layer specific to the task of predicting a salary\n",
    "    model.add(layers.Dense(1, activation='sigmoid'))\n",
    "\n",
    "    #compiling the model\n",
    "    model.compile(\n",
    "        loss = 'binary_crossentropy',\n",
    "        optimizer = 'rmsprop',\n",
    "        metrics = ['accuracy']\n",
    "    )\n",
    "\n",
    "    return model"
   ]
  },
  {
   "cell_type": "code",
   "execution_count": 43,
   "metadata": {},
   "outputs": [
    {
     "data": {
      "text/plain": [
       "(1122, 50)"
      ]
     },
     "execution_count": 43,
     "metadata": {},
     "output_type": "execute_result"
    }
   ],
   "source": [
    "X_train_pad_2.shape[1:]"
   ]
  },
  {
   "cell_type": "code",
   "execution_count": 45,
   "metadata": {
    "tags": [
     "challengify"
    ]
   },
   "outputs": [],
   "source": [
    "model_2 = create_model_lstm_2()"
   ]
  },
  {
   "cell_type": "code",
   "execution_count": 46,
   "metadata": {},
   "outputs": [
    {
     "name": "stdout",
     "output_type": "stream",
     "text": [
      "Epoch 1/30\n",
      "63/63 [==============================] - 11s 144ms/step - loss: 0.6906 - accuracy: 0.5405 - val_loss: 0.6856 - val_accuracy: 0.5420\n",
      "Epoch 2/30\n",
      "63/63 [==============================] - 8s 132ms/step - loss: 0.6751 - accuracy: 0.5840 - val_loss: 0.6672 - val_accuracy: 0.5980\n",
      "Epoch 3/30\n",
      "63/63 [==============================] - 8s 133ms/step - loss: 0.6497 - accuracy: 0.6320 - val_loss: 0.6286 - val_accuracy: 0.6540\n",
      "Epoch 4/30\n",
      "63/63 [==============================] - 8s 133ms/step - loss: 0.6161 - accuracy: 0.6760 - val_loss: 0.6301 - val_accuracy: 0.6520\n",
      "Epoch 5/30\n",
      "63/63 [==============================] - 8s 132ms/step - loss: 0.5938 - accuracy: 0.6905 - val_loss: 0.5958 - val_accuracy: 0.6900\n",
      "Epoch 6/30\n",
      "63/63 [==============================] - 8s 135ms/step - loss: 0.5795 - accuracy: 0.7020 - val_loss: 0.5774 - val_accuracy: 0.7040\n",
      "Epoch 7/30\n",
      "63/63 [==============================] - 8s 133ms/step - loss: 0.5708 - accuracy: 0.7095 - val_loss: 0.5991 - val_accuracy: 0.6840\n",
      "Epoch 8/30\n",
      "63/63 [==============================] - 8s 132ms/step - loss: 0.5638 - accuracy: 0.7110 - val_loss: 0.6078 - val_accuracy: 0.6640\n",
      "Epoch 9/30\n",
      "63/63 [==============================] - 8s 131ms/step - loss: 0.5454 - accuracy: 0.7425 - val_loss: 0.5588 - val_accuracy: 0.7260\n",
      "Epoch 10/30\n",
      "63/63 [==============================] - 8s 131ms/step - loss: 0.5343 - accuracy: 0.7360 - val_loss: 0.5480 - val_accuracy: 0.7320\n",
      "Epoch 11/30\n",
      "63/63 [==============================] - 8s 133ms/step - loss: 0.5265 - accuracy: 0.7455 - val_loss: 0.5634 - val_accuracy: 0.7140\n",
      "Epoch 12/30\n",
      "63/63 [==============================] - 8s 133ms/step - loss: 0.5163 - accuracy: 0.7470 - val_loss: 0.5231 - val_accuracy: 0.7560\n",
      "Epoch 13/30\n",
      "63/63 [==============================] - 8s 134ms/step - loss: 0.5064 - accuracy: 0.7590 - val_loss: 0.5188 - val_accuracy: 0.7220\n",
      "Epoch 14/30\n",
      "63/63 [==============================] - 8s 133ms/step - loss: 0.4925 - accuracy: 0.7685 - val_loss: 0.5112 - val_accuracy: 0.7300\n",
      "Epoch 15/30\n",
      "63/63 [==============================] - 8s 133ms/step - loss: 0.4756 - accuracy: 0.7860 - val_loss: 0.5212 - val_accuracy: 0.7260\n",
      "Epoch 16/30\n",
      "63/63 [==============================] - 8s 134ms/step - loss: 0.4625 - accuracy: 0.7960 - val_loss: 0.5469 - val_accuracy: 0.7280\n",
      "Epoch 17/30\n",
      "63/63 [==============================] - 8s 132ms/step - loss: 0.4701 - accuracy: 0.7830 - val_loss: 0.5100 - val_accuracy: 0.7500\n",
      "Epoch 18/30\n",
      "63/63 [==============================] - 8s 132ms/step - loss: 0.4443 - accuracy: 0.8010 - val_loss: 0.4907 - val_accuracy: 0.7760\n",
      "Epoch 19/30\n",
      "63/63 [==============================] - 8s 133ms/step - loss: 0.4427 - accuracy: 0.8010 - val_loss: 0.5148 - val_accuracy: 0.7740\n",
      "Epoch 20/30\n",
      "63/63 [==============================] - 9s 136ms/step - loss: 0.4304 - accuracy: 0.8165 - val_loss: 0.5321 - val_accuracy: 0.7600\n",
      "Epoch 21/30\n",
      "63/63 [==============================] - 8s 133ms/step - loss: 0.4197 - accuracy: 0.8145 - val_loss: 0.4775 - val_accuracy: 0.7680\n",
      "Epoch 22/30\n",
      "63/63 [==============================] - 8s 134ms/step - loss: 0.4145 - accuracy: 0.8195 - val_loss: 0.5111 - val_accuracy: 0.7620\n",
      "Epoch 23/30\n",
      "63/63 [==============================] - 8s 132ms/step - loss: 0.4020 - accuracy: 0.8265 - val_loss: 0.4898 - val_accuracy: 0.7500\n",
      "Epoch 24/30\n",
      "63/63 [==============================] - 8s 132ms/step - loss: 0.4020 - accuracy: 0.8240 - val_loss: 0.4942 - val_accuracy: 0.7700\n",
      "Epoch 25/30\n",
      "63/63 [==============================] - 8s 132ms/step - loss: 0.3871 - accuracy: 0.8335 - val_loss: 0.4955 - val_accuracy: 0.7640\n",
      "Epoch 26/30\n",
      "63/63 [==============================] - 8s 133ms/step - loss: 0.3814 - accuracy: 0.8355 - val_loss: 0.5001 - val_accuracy: 0.7500\n"
     ]
    }
   ],
   "source": [
    "es = EarlyStopping(patience = 5, restore_best_weights=True)\n",
    "\n",
    "history_2 = model_2.fit(\n",
    "     X_train_pad_2,\n",
    "     y_train,\n",
    "     validation_split = 0.2,\n",
    "     batch_size = 32,\n",
    "     epochs = 30,\n",
    "     callbacks = [es]\n",
    ")"
   ]
  },
  {
   "cell_type": "code",
   "execution_count": 48,
   "metadata": {},
   "outputs": [
    {
     "name": "stdout",
     "output_type": "stream",
     "text": [
      "The accuracy evaluated on the test set is of 76.720%\n"
     ]
    }
   ],
   "source": [
    "res = model_2.evaluate(X_test_pad_2, y_test, verbose=0)\n",
    "\n",
    "print(f'The accuracy evaluated on the test set is of {res[1]*100:.3f}%')"
   ]
  },
  {
   "cell_type": "markdown",
   "metadata": {},
   "source": [
    "Because your new word2vec has been trained on a large corpus, it has a representation for many many words! Way more than with your small dataset, especially as you discarded words that were not present more than a given number of times in the train set. For that reason, you have way more embedded words in your train and test set, which makes each iteration longer than previously"
   ]
  },
  {
   "cell_type": "code",
   "execution_count": null,
   "metadata": {},
   "outputs": [],
   "source": []
  }
 ],
 "metadata": {
  "kernelspec": {
   "display_name": "Python 3",
   "language": "python",
   "name": "python3"
  },
  "language_info": {
   "codemirror_mode": {
    "name": "ipython",
    "version": 3
   },
   "file_extension": ".py",
   "mimetype": "text/x-python",
   "name": "python",
   "nbconvert_exporter": "python",
   "pygments_lexer": "ipython3",
   "version": "3.10.6"
  }
 },
 "nbformat": 4,
 "nbformat_minor": 4
}
